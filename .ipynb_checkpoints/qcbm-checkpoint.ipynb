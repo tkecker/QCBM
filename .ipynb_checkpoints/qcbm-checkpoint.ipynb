{
 "cells": [
  {
   "cell_type": "markdown",
   "id": "8cf9468b",
   "metadata": {},
   "source": [
    "# The Quantum Circuit Born Machine (QCMB) as a Market Generator\n",
    "This code has been created based on the algorithm presented in chapter 9 of the book\n",
    "#### Quantum Machine Learning and Optimisation in Finance by A. Jacquier and O. Kondratyev (2022, Packt Publishing)\n",
    "\n",
    "A parametrised quantum circuit (PQC) is trained to generate synthetic data that will have a statistical distribution close to the original dataset, here chosen from finance, here daily log-returns of a stock index (German DAX). The PQC (ansatz) is trained using a genetic algorithm, instead of using a gradient based training algorithm. Starting from random sets of parameters $\\theta$ ($12 \\times 7$ matrices) for the PQC, these are improved by mutation, allowing one entry of each column to be altered with probability $\\alpha$ in each step, where $\\alpha$ decreases exponentially from generation to generation. With the trained circuit, new (synthetic) market data can be generated simply by sampling the circuit once for each new data point."
   ]
  },
  {
   "cell_type": "code",
   "execution_count": 1,
   "id": "2a2120ec",
   "metadata": {},
   "outputs": [],
   "source": [
    "import numpy as np\n",
    "import matplotlib.pyplot as plt\n",
    "# magic word for producing visualizations in notebook\n",
    "%matplotlib inline\n",
    "\n",
    "# AWS imports: Import Braket SDK modules\n",
    "from braket.circuits import Circuit, FreeParameter, Gate, Observable\n",
    "from braket.devices import LocalSimulator\n",
    "from braket.aws import AwsDevice, AwsQuantumTask"
   ]
  },
  {
   "cell_type": "code",
   "execution_count": 2,
   "id": "50e4279b",
   "metadata": {},
   "outputs": [
    {
     "data": {
      "image/png": "[encoded data removed]",
      "text/plain": [
       "<Figure size 432x288 with 1 Axes>"
      ]
     },
     "metadata": {
      "needs_background": "light"
     },
     "output_type": "display_data"
    }
   ],
   "source": [
    "# load some data that we wish to synthetically generate new samples for,\n",
    "# here daily log-returns of a (the German DAX) stock index\n",
    "import pandas as pd\n",
    "\n",
    "df = pd.read_csv('data_akbilgic.csv',header=1)  # load data downloaded from the UCI Machine Learning Repository \n",
    "                                                # https://archive.ics.uci.edu/ml/datasets/ISTANBUL%20STOCK%20EXCHANGE\n",
    "D = df[['date','DAX']] # take daily DAX (German stock index) log-returns from the dataset for a period of 536 days\n",
    "\n",
    "DAX_min = D['DAX'].min() # maximum value of the data\n",
    "DAX_max = D['DAX'].max() # minimum value of the data\n",
    "DAX_range = DAX_max - DAX_min   # data range \n",
    "\n",
    "data = D['DAX'].to_numpy()  # convert data to numpy array\n",
    "plt.hist(data,bins=50)  # plot the data as a histogram\n",
    "plt.show()"
   ]
  },
  {
   "cell_type": "code",
   "execution_count": 19,
   "id": "cd0cad37",
   "metadata": {},
   "outputs": [],
   "source": [
    "# function to convert data in the interval (vmin-epsilon,vmax+epsilon) into bitstring using 12-bit precision\n",
    "def data_to_bitstring(value,vmin,vmax,epsilon=0,precision=12):\n",
    "    int_value = int((value - vmin + epsilon)/((vmax-vmin)+2*epsilon)*(2**precision-1))\n",
    "    bitstring = format(int_value,'012b')  \n",
    "    return bitstring\n",
    "\n",
    "# convert bitstring of length precision to a data point in the range (vmin-epsilon,vmax+epsilon)\n",
    "def bitstring_to_data(bitstring,vmin,vmax,epsilon=0):\n",
    "    precision = len(bitstring)\n",
    "    bitstring = bitstring[::-1]   \n",
    "    vint = 0\n",
    "    for j in range(precision):\n",
    "        vint += int(bitstring[j])*(2**j)  # obtain integer representation from the bitstring\n",
    "    value = vmin - epsilon + vint/(2**precision-1)*(vmax - vmin + 2*epsilon) # bring into the range (vmin-epsilon,vmax+epsilon)\n",
    "    return value"
   ]
  },
  {
   "cell_type": "code",
   "execution_count": 4,
   "id": "b4a3cee4",
   "metadata": {},
   "outputs": [],
   "source": [
    "# get Rigetti Aspen-M3 device from AWS -- need to be registered with AWS\n",
    "# device = AwsDevice(\"arn:aws:braket:us-west-1::device/qpu/rigetti/Aspen-M-3\")\n",
    "# we use a simulator here for practice runs, also training the circuit could become expensive! (10e7 shots required in total)\n",
    "device = LocalSimulator()"
   ]
  },
  {
   "cell_type": "markdown",
   "id": "1112aef7",
   "metadata": {},
   "source": [
    "### Parametrized Quantum Circuit (Born Machine)\n",
    "\n",
    "The ansatz for the quantum circuit used by the Born machine consists of 7 layers of 1-qubit gates with entangling layers (CNOT gates) in between. The number of wires (qubits) needed depends on the precision required for the generated data. Here, we choose 12-bit precision, the data can take $2^{12}$ different values in the range $(v_\\text{min}-\\epsilon,v_\\text{max}+\\epsilon)$, where $\\epsilon > 0$ allows data to be generated that lie outside the range $(v_\\text{min},v_\\text{max})$ of the original data. "
   ]
  },
  {
   "cell_type": "code",
   "execution_count": 5,
   "id": "8c190853",
   "metadata": {},
   "outputs": [
    {
     "name": "stdout",
     "output_type": "stream",
     "text": [
      "T   : |    0     |    1     |2| 3 |    4     |    5     |    6     | 7 |8|    9     |    10    |\n",
      "                                                                                                \n",
      "q0  : -Rx(t_0_0)--Rz(t_1_0)--C---X-Rz(t_2_0)--Rx(t_3_0)--Rz(t_4_0)--X---C-Rz(t_5_0)--Rx(t_6_0)--\n",
      "                             |   |                                  |   |                       \n",
      "q1  : -Rx(t_0_1)--Rz(t_1_1)--X-C-|-Rz(t_2_1)--Rx(t_3_1)--Rz(t_4_1)--|-C-X-Rz(t_5_1)--Rx(t_6_1)--\n",
      "                               | |                                  | |                         \n",
      "q2  : -Rx(t_0_2)--Rz(t_1_2)--C-X-|-Rz(t_2_2)--Rx(t_3_2)--Rz(t_4_2)--|-X-C-Rz(t_5_2)--Rx(t_6_2)--\n",
      "                             |   |                                  |   |                       \n",
      "q3  : -Rx(t_0_3)--Rz(t_1_3)--X-C-|-Rz(t_2_3)--Rx(t_3_3)--Rz(t_4_3)--|-C-X-Rz(t_5_3)--Rx(t_6_3)--\n",
      "                               | |                                  | |                         \n",
      "q4  : -Rx(t_0_4)--Rz(t_1_4)--C-X-|-Rz(t_2_4)--Rx(t_3_4)--Rz(t_4_4)--|-X-C-Rz(t_5_4)--Rx(t_6_4)--\n",
      "                             |   |                                  |   |                       \n",
      "q5  : -Rx(t_0_5)--Rz(t_1_5)--X-C-|-Rz(t_2_5)--Rx(t_3_5)--Rz(t_4_5)--|-C-X-Rz(t_5_5)--Rx(t_6_5)--\n",
      "                               | |                                  | |                         \n",
      "q6  : -Rx(t_0_6)--Rz(t_1_6)--C-X-|-Rz(t_2_6)--Rx(t_3_6)--Rz(t_4_6)--|-X-C-Rz(t_5_6)--Rx(t_6_6)--\n",
      "                             |   |                                  |   |                       \n",
      "q7  : -Rx(t_0_7)--Rz(t_1_7)--X-C-|-Rz(t_2_7)--Rx(t_3_7)--Rz(t_4_7)--|-C-X-Rz(t_5_7)--Rx(t_6_7)--\n",
      "                               | |                                  | |                         \n",
      "q8  : -Rx(t_0_8)--Rz(t_1_8)--C-X-|-Rz(t_2_8)--Rx(t_3_8)--Rz(t_4_8)--|-X-C-Rz(t_5_8)--Rx(t_6_8)--\n",
      "                             |   |                                  |   |                       \n",
      "q9  : -Rx(t_0_9)--Rz(t_1_9)--X-C-|-Rz(t_2_9)--Rx(t_3_9)--Rz(t_4_9)--|-C-X-Rz(t_5_9)--Rx(t_6_9)--\n",
      "                               | |                                  | |                         \n",
      "q10 : -Rx(t_0_10)-Rz(t_1_10)-C-X-|-Rz(t_2_10)-Rx(t_3_10)-Rz(t_4_10)-|-X-C-Rz(t_5_10)-Rx(t_6_10)-\n",
      "                             |   |                                  |   |                       \n",
      "q11 : -Rx(t_0_11)-Rz(t_1_11)-X---C-Rz(t_2_11)-Rx(t_3_11)-Rz(t_4_11)-C---X-Rz(t_5_11)-Rx(t_6_11)-\n",
      "\n",
      "T   : |    0     |    1     |2| 3 |    4     |    5     |    6     | 7 |8|    9     |    10    |\n",
      "\n",
      "Unassigned parameters: [t_0_0, t_0_1, t_0_10, t_0_11, t_0_2, t_0_3, t_0_4, t_0_5, t_0_6, t_0_7, t_0_8, t_0_9, t_1_0, t_1_1, t_1_10, t_1_11, t_1_2, t_1_3, t_1_4, t_1_5, t_1_6, t_1_7, t_1_8, t_1_9, t_2_0, t_2_1, t_2_10, t_2_11, t_2_2, t_2_3, t_2_4, t_2_5, t_2_6, t_2_7, t_2_8, t_2_9, t_3_0, t_3_1, t_3_10, t_3_11, t_3_2, t_3_3, t_3_4, t_3_5, t_3_6, t_3_7, t_3_8, t_3_9, t_4_0, t_4_1, t_4_10, t_4_11, t_4_2, t_4_3, t_4_4, t_4_5, t_4_6, t_4_7, t_4_8, t_4_9, t_5_0, t_5_1, t_5_10, t_5_11, t_5_2, t_5_3, t_5_4, t_5_5, t_5_6, t_5_7, t_5_8, t_5_9, t_6_0, t_6_1, t_6_10, t_6_11, t_6_2, t_6_3, t_6_4, t_6_5, t_6_6, t_6_7, t_6_8, t_6_9].\n"
     ]
    }
   ],
   "source": [
    "# Construct the PQC (parameterized quantum circuit) ansatz for the Quantum Circuit Born Machine (QCBM)\n",
    "qcbm = Circuit()\n",
    "wires = 12 # number of wires corresponding to the bit precision required for the data, here 12 bits\n",
    "depth = 7  # number of parametrised 1-qubit gate layers\n",
    "theta = [[FreeParameter(\"t_%s_%s\" % (l,q)) for q in range(wires)] for l in range(depth)]\n",
    "# free parameters (angles) are labelled t_i_j, where i is the layer of the circuit and j the wire\n",
    "\n",
    "for q in range(wires):\n",
    "    qcbm.rx(q,theta[0][q])  # layer of rx gates with unspecified parameters\n",
    "    qcbm.rz(q,theta[1][q])  # layer of rz gates with unspecified parameters\n",
    "\n",
    "for q in range(wires//2):       ## layer of interlinked cnot gates for entanglement\n",
    "    qcbm.cnot(control=2*q,target=(2*q+1)%wires)\n",
    "for q in range(wires//2):\n",
    "    qcbm.cnot(control=2*q+1,target=(2*(q+1))%wires)\n",
    "    \n",
    "for q in range(wires):\n",
    "    qcbm.rz(q,theta[2][q]) # layer of rx gates with unspecified parameters\n",
    "    qcbm.rx(q,theta[3][q]) # layer of rz gates with unspecified parameters\n",
    "    qcbm.rz(q,theta[4][q]) # layer of rx gates with unspecified parameters\n",
    "    \n",
    "for q in range(wires//2):       ## layer of interlinked cnot gates for entanglement \n",
    "    qcbm.cnot(control=wires-1-2*q,target=(wires-2*q)%wires)\n",
    "for q in range(wires//2):\n",
    "    qcbm.cnot(control=wires-2-2*q,target=wires-1-2*q)\n",
    "    \n",
    "for q in range(wires):\n",
    "    qcbm.rz(q,theta[5][q])  # layer of rz gates with unspecified parameters\n",
    "    qcbm.rx(q,theta[6][q])  # layer of rx gates with unspecified parameters\n",
    "\n",
    "print(qcbm)"
   ]
  },
  {
   "cell_type": "markdown",
   "id": "0b220e65",
   "metadata": {},
   "source": [
    "The QCBM takes a $12 \\times 7$ matrix of parameters (angles in the range $(-\\pi,\\pi)$ as input, in form of a dictionary. Each angle takes one of $2^m$ discrete values, where $m$ is a model parameter (here $m=7$). The resulting search space is huge: $(2^7)^{12\\cdot 7} \\approx 10^{177}$. This search space is explored using a genetic algorithm to avoid the common barren plateau phenomenon known in gradient based optimisation algorithms. "
   ]
  },
  {
   "cell_type": "code",
   "execution_count": 6,
   "id": "d756bedd",
   "metadata": {},
   "outputs": [],
   "source": [
    "# generate random angles in the range (-pi,pi) to initialize the parameters of the QCBM\n",
    "def random_thetas(m=7,dim=[12,7]):\n",
    "# generate a random array of dimension 'size' each parameter can take m discrete values between -pi and +pi \n",
    "    thetas = np.random.randint(2**m,size=dim)\n",
    "    thetas = np.pi/2**(m-1) * thetas\n",
    "    thetas -= np.pi\n",
    "    return thetas\n",
    "\n",
    "# Prepare dictionary from parameter values theta that can serve as input for the parameterized quantum circuit of the QCBM\n",
    "def thetas_to_dict(thetas):\n",
    "    wires, depth = thetas.shape\n",
    "    theta_dict = {}\n",
    "    for i in range(depth):\n",
    "        for j in range(wires):\n",
    "            t_str = 't_' + str(i) + '_' + str(j)\n",
    "            theta_dict[t_str] = thetas[j][i]\n",
    "    return theta_dict"
   ]
  },
  {
   "cell_type": "code",
   "execution_count": 7,
   "id": "a7f0895f",
   "metadata": {},
   "outputs": [],
   "source": [
    "def draw_data_sample(data,K=100):  # draws K samples randomly from the original data\n",
    "    u = []                         # need these in the cost function to compare with the QCBM generated data below\n",
    "    rows = len(data)\n",
    "    for i in range(K):             \n",
    "        index = np.random.randint(rows)  # pick a random row index of the date array\n",
    "        u.append(data[index])            # retrieve the data value at this index and append to u\n",
    "    return u"
   ]
  },
  {
   "cell_type": "markdown",
   "id": "d4f8d443",
   "metadata": {},
   "source": [
    "### Running the QCBM\n",
    "\n",
    "Now we can sample the QCBM circuit, represented by a unitary $U(\\theta)$ with parameters $\\theta$ ($12 \\times 7$ matrix). Here this is done for N different sets of parameters. Samples are obtained by simply preparing the circuit, $U(\\theta)$, and measuring the QCBM circuit and converting the resulting bistrings to real-valued data, one for each shot: $\\langle 0 | U(\\theta) | 0 \\rangle$.\n",
    "\n",
    "Each measurement gives a 12-bit string that is converted to a real valued data sample."
   ]
  },
  {
   "cell_type": "code",
   "execution_count": 8,
   "id": "ed0cc99f",
   "metadata": {},
   "outputs": [],
   "source": [
    "def run_qcbm(Nthetas,vmin,vmax,epsilon=0,K=100): # samples K times from the QCBM for each set of parameters in Nthetas\n",
    "    Nv = []                                      # array to hold N sets of samples from K shots each\n",
    "    for thetas in Nthetas:\n",
    "        thetas_dict = thetas_to_dict(thetas)\n",
    "        task = device.run(qcbm,shots=K,inputs=thetas_dict)   # Here the quantum circuit is executed, incurring cost\n",
    "        result = task.result()                               # get results of the measurements\n",
    "        counts = result.measurement_counts                   # obtain bitstrings with their respective counts\n",
    "        v = []\n",
    "        for bitstring, count in counts.items():\n",
    "            value = bitstring_to_data(bitstring,vmin,vmax,epsilon=epsilon)  # convert bitstring to real valued data\n",
    "            for i in range(count): \n",
    "                v.append(value)                                             # append each data as many times as it was measured\n",
    "        Nv.append(v)\n",
    "    return Nv"
   ]
  },
  {
   "cell_type": "markdown",
   "id": "977edb25",
   "metadata": {},
   "source": [
    "### Cost function\n",
    "\n",
    "The cost function is computed as the sum of squared differences of the (sorted!) data drawn from the original $u$ and the sampled data $v$ generated by the QCBM:\n",
    "$$\\text{cost}(u,v) = \\sum_{i=1}^K (u_\\text{sorted}[i] - v_\\text{sorted}[i])^2$$"
   ]
  },
  {
   "cell_type": "code",
   "execution_count": 9,
   "id": "f526990e",
   "metadata": {},
   "outputs": [],
   "source": [
    "# cost function, defined as the sum of squared differences of K generated samples and samples drawn from the original data\n",
    "def cost(u,v):\n",
    "    K = len(u)\n",
    "    u_sorted = np.sort(u)    # sort data by value\n",
    "    v_sorted = np.sort(v)    # sort generated samples by value\n",
    "    squared_diff_sum = 0     # compute the sum of squared differences between the sorted samples\n",
    "    for i in range(K):\n",
    "        squared_diff_sum += (u_sorted[i]-v_sorted[i])**2  # add the squared difference for each data / sample pair\n",
    "    return squared_diff_sum  # return the sum of squared differences"
   ]
  },
  {
   "cell_type": "markdown",
   "id": "c9cc4ae9",
   "metadata": {},
   "source": [
    "### Mutation of parameters\n",
    "\n",
    "The main step in training the QCBM is called a mutation. For each column of a $\\theta$ ($12 \\times 7$) matrix, one entry is modified (independently) with probability $\\alpha$ to a random value, the mutation parameter. After that, with probabily $\\frac{\\alpha}{2}$ a second entry of each column is replaced to allow for simultaneous mutation of two column entries. From each $\\theta$ matrix, $D$ copies of mutated matrices are produced. The parameter $\\alpha$ will be decreased in each generation by a factor $\\exp(-\\beta)$, where $\\beta$ is chosen so that after $50$ generations, $\\alpha$ is halved."
   ]
  },
  {
   "cell_type": "code",
   "execution_count": 10,
   "id": "cfdb1bfd",
   "metadata": {},
   "outputs": [],
   "source": [
    "# To find good parameter values by running a genetic algorithm, this function performs one mutation step\n",
    "# Mutation works by creating D copies of each set of theta values in Mthetas and changing column entries with probability alpha\n",
    "# return a list Nthetas of N=M*D sets of parameter values\n",
    "def mutation(Mthetas,D,alpha,m=7):                       \n",
    "    Nthetas_new = []\n",
    "    for thetas in Mthetas:\n",
    "        wires, depth = thetas.shape\n",
    "        for d in range(D):            # for each set of theta values create D mutations, generating N = M*D mutations in total\n",
    "            theta_trans = thetas.copy().transpose()  # make a copy of the current theta values which is to be mutated\n",
    "            for i in range(depth):\n",
    "                if np.random.rand() < alpha:                                 # with probability alpha perform a mutation\n",
    "                    wire = np.random.randint(wires)                          # select a random wire\n",
    "                    angle = np.random.randint(2**m)*np.pi/(2**(m-1)) - np.pi # generate a random angle in (-pi,pi) in 2**m steps\n",
    "                    theta_trans[i][wire] = angle                             # replace angle in the chosen wire\n",
    "                    if np.random.rand() < alpha/2:                         # perform a second mutation with probability alpha/2\n",
    "                        wire = np.random.randint(wires)                          # select a random wire (could be same as above)\n",
    "                        angle = np.random.randint(2**m)*np.pi/(2**(m-1)) - np.pi # generate a random angle in (-pi,pi)\n",
    "                        theta_trans[i][wire] = angle                         # replace angle in the chosen wire\n",
    "            Nthetas_new.append(theta_trans.transpose())                      # append mutated theta values to parameter list\n",
    "    return Nthetas_new"
   ]
  },
  {
   "cell_type": "markdown",
   "id": "4697b16a",
   "metadata": {},
   "source": [
    "To evaluate the quality of the parameter matrix $\\theta$, the QCBM is sampled with $K=100$ shots for these parameters and compared with the same number of samples drawn from the original data by computing the cost function of the sorted samples. "
   ]
  },
  {
   "cell_type": "code",
   "execution_count": 11,
   "id": "178c6b46",
   "metadata": {},
   "outputs": [],
   "source": [
    "# calculates the cost for all sets of theta values in Nthetas for the data by sampling the QCBM, \n",
    "# returning the thetas sorted by cost\n",
    "def thetas_by_cost(Nthetas,data,vmin,vmax,epsilon=0,K=100):  \n",
    "    u = draw_data_sample(data,K)                           # draw samples from the original data to compare with generated data \n",
    "    Nv = run_qcbm(Nthetas,vmin,vmax,epsilon=epsilon,K=K)   # for each set of theta values, sample the QCBM K times\n",
    "    cost_vector = []\n",
    "    for v in Nv:                           # compute the cost function between the original data and each set of QCBM samples\n",
    "        cost_vector.append(cost(u,v))\n",
    "    cost_thetas = list(zip(cost_vector,Nthetas)) \n",
    "    cost_thetas.sort()                     # sort the list by the value of the cost function\n",
    "    cost_sorted = [x for x,y in cost_thetas]\n",
    "    Nthetas_sorted = [y for x,y in cost_thetas]\n",
    "    return cost_sorted, Nthetas_sorted"
   ]
  },
  {
   "cell_type": "markdown",
   "id": "db5c5e53",
   "metadata": {},
   "source": [
    "### Genetic algorithm \n",
    "\n",
    "Now we run a genetic algorithm for $L=100$ generations to explore the parameter space. The mutation parameters $\\alpha$ and $\\beta$ are chosen so that the mutation probability $\\alpha$ (starting at $1.0$) is halved every $50$ generations. After generating a random family of $1000$ parameter matrices $\\theta$, the best $M=25$ (according to the smallest cost) are kept and mutated, with $40$ copies each. If the minimal cost of the mutated generation decreases, the new parameters are kept and the best $25$ mutated again, and so on."
   ]
  },
  {
   "cell_type": "code",
   "execution_count": 12,
   "id": "08dfd332",
   "metadata": {},
   "outputs": [
    {
     "name": "stdout",
     "output_type": "stream",
     "text": [
      "Generation 0, cost = 0.00501\n",
      "Generation 1, cost = 0.00217  improved!\n",
      "Generation 2, cost = 0.00122  improved!\n",
      "Generation 3, cost = 0.00132\n",
      "Generation 4, cost = 0.00125\n",
      "Generation 5, cost = 0.00150\n",
      "Generation 6, cost = 0.00136\n",
      "Generation 7, cost = 0.00096  improved!\n",
      "Generation 8, cost = 0.00077  improved!\n",
      "Generation 9, cost = 0.00072  improved!\n",
      "Generation 10, cost = 0.00086\n",
      "Generation 11, cost = 0.00073\n",
      "Generation 12, cost = 0.00063  improved!\n",
      "Generation 13, cost = 0.00054  improved!\n",
      "Generation 14, cost = 0.00068\n",
      "Generation 15, cost = 0.00112\n",
      "Generation 16, cost = 0.00099\n",
      "Generation 17, cost = 0.00109\n",
      "Generation 18, cost = 0.00107\n",
      "Generation 19, cost = 0.00087\n",
      "Generation 20, cost = 0.00073\n",
      "Generation 21, cost = 0.00057\n",
      "Generation 22, cost = 0.00068\n",
      "Generation 23, cost = 0.00066\n",
      "Generation 24, cost = 0.00086\n",
      "Generation 25, cost = 0.00058\n",
      "Generation 26, cost = 0.00067\n",
      "Generation 27, cost = 0.00063\n",
      "Generation 28, cost = 0.00068\n",
      "Generation 29, cost = 0.00058\n",
      "Generation 30, cost = 0.00087\n",
      "Generation 31, cost = 0.00079\n",
      "Generation 32, cost = 0.00060\n",
      "Generation 33, cost = 0.00068\n",
      "Generation 34, cost = 0.00088\n",
      "Generation 35, cost = 0.00104\n",
      "Generation 36, cost = 0.00128\n",
      "Generation 37, cost = 0.00058\n",
      "Generation 38, cost = 0.00081\n",
      "Generation 39, cost = 0.00070\n",
      "Generation 40, cost = 0.00131\n",
      "Generation 41, cost = 0.00092\n",
      "Generation 42, cost = 0.00090\n",
      "Generation 43, cost = 0.00065\n",
      "Generation 44, cost = 0.00064\n",
      "Generation 45, cost = 0.00047  improved!\n",
      "Generation 46, cost = 0.00086\n",
      "Generation 47, cost = 0.00099\n",
      "Generation 48, cost = 0.00089\n",
      "Generation 49, cost = 0.00105\n",
      "Generation 50, cost = 0.00095\n",
      "Generation 51, cost = 0.00081\n",
      "Generation 52, cost = 0.00072\n",
      "Generation 53, cost = 0.00116\n",
      "Generation 54, cost = 0.00087\n",
      "Generation 55, cost = 0.00105\n",
      "Generation 56, cost = 0.00090\n",
      "Generation 57, cost = 0.00079\n",
      "Generation 58, cost = 0.00088\n",
      "Generation 59, cost = 0.00062\n",
      "Generation 60, cost = 0.00091\n",
      "Generation 61, cost = 0.00056\n",
      "Generation 62, cost = 0.00109\n",
      "Generation 63, cost = 0.00089\n",
      "Generation 64, cost = 0.00079\n",
      "Generation 65, cost = 0.00151\n",
      "Generation 66, cost = 0.00124\n",
      "Generation 67, cost = 0.00073\n",
      "Generation 68, cost = 0.00053\n",
      "Generation 69, cost = 0.00099\n",
      "Generation 70, cost = 0.00057\n",
      "Generation 71, cost = 0.00075\n",
      "Generation 72, cost = 0.00082\n",
      "Generation 73, cost = 0.00045  improved!\n",
      "Generation 74, cost = 0.00085\n",
      "Generation 75, cost = 0.00088\n",
      "Generation 76, cost = 0.00073\n",
      "Generation 77, cost = 0.00045  improved!\n",
      "Generation 78, cost = 0.00053\n",
      "Generation 79, cost = 0.00057\n",
      "Generation 80, cost = 0.00057\n",
      "Generation 81, cost = 0.00120\n",
      "Generation 82, cost = 0.00081\n",
      "Generation 83, cost = 0.00094\n",
      "Generation 84, cost = 0.00065\n",
      "Generation 85, cost = 0.00063\n",
      "Generation 86, cost = 0.00127\n",
      "Generation 87, cost = 0.00030  improved!\n",
      "Generation 88, cost = 0.00042\n",
      "Generation 89, cost = 0.00024  improved!\n",
      "Generation 90, cost = 0.00058\n",
      "Generation 91, cost = 0.00053\n",
      "Generation 92, cost = 0.00060\n",
      "Generation 93, cost = 0.00062\n",
      "Generation 94, cost = 0.00053\n",
      "Generation 95, cost = 0.00044\n",
      "Generation 96, cost = 0.00039\n",
      "Generation 97, cost = 0.00063\n",
      "Generation 98, cost = 0.00060\n",
      "Generation 99, cost = 0.00061\n",
      "Generation 100, cost = 0.00040\n"
     ]
    }
   ],
   "source": [
    "# Train the parameters of the QCBM ansatz using a genetic algorithm\n",
    "# THIS CAN TAKE A WHILE!!!\n",
    "L = 100  # number of iterations (generations) for the genetic algorithm\n",
    "M = 25  # number of best solutions in the given generation, chosen for further mutation\n",
    "D = 40  # number of 'offspring' each solution (1..M) produces through mutation\n",
    "N = D*M # number of solutions in each generation\n",
    "alpha, beta = 1.0, 0.013863 # mutation parameters\n",
    "kappa = 50 # number of generations after which mutation rate has decreased by a factor of 1/2\n",
    "epsilon = 0.01   # amount by which generated data can lie outside the range of original data: (d_min - epsilon,d_max + epsilon)\n",
    "\n",
    "# initialize N sets of theta values with random angles\n",
    "Nthetas = []\n",
    "for i in range(N):\n",
    "    Nthetas.append(random_thetas())\n",
    "\n",
    "    \n",
    "# compute the cost for samples obtained from the QCBM and record the minimum\n",
    "cost_sorted, Nthetas_sorted = thetas_by_cost(Nthetas,data,DAX_min,DAX_max,epsilon=epsilon)\n",
    "print('Generation 0, cost = %.5f' % cost_sorted[0])\n",
    "cost_min = [cost_sorted[0]]\n",
    "\n",
    "# now run the genetic algorithm over L generations\n",
    "for gen in range(L):\n",
    "    alpha *= np.exp(-beta)                # mutation probability alpha decreased exponentially (factor 1/2 for 50 generations)\n",
    "    Mthetas = Nthetas_sorted[:M]          # keep only the best M sets of theta values\n",
    "    Nthetas_new = mutation(Mthetas,D,alpha)\n",
    "    cost_new, thetas_new = thetas_by_cost(Nthetas_new,data,DAX_min,DAX_max,epsilon=epsilon)\n",
    "    message = 'Generation %i, cost = %.5f' % (gen+1, cost_new[0])\n",
    "    if cost_new[0] < cost_min[-1]:        # if minimum cost of new parameters is less than previous minimum, keep them\n",
    "        cost_min.append(cost_new[0])\n",
    "        Nthetas_sorted = thetas_new       \n",
    "        print(message + '  improved!')    # print that parameters have improved\n",
    "    else:\n",
    "        print(message)"
   ]
  },
  {
   "cell_type": "code",
   "execution_count": 14,
   "id": "d6cc6e98",
   "metadata": {},
   "outputs": [],
   "source": [
    "thetas_opt = Nthetas_sorted[0]  # record the best values of theta parameters obtained from the genetic algorithm\n",
    "# np.savetxt(\"thetas_opt.csv\",thetas_opt,delimiter=\",\")  # save good parameters to a csv file (only execute to override previous)"
   ]
  },
  {
   "cell_type": "markdown",
   "id": "0a54bf75",
   "metadata": {},
   "source": [
    "### Using the QCBM to generate market data\n",
    "\n",
    "Now the QCBM has been trained, we can sample from it to generate new, synthetic data that follows a statistical distribution close to the original data. To visualise this we create QQ (quantile-quantile) plots of the original data against sampled data from the QCBM."
   ]
  },
  {
   "cell_type": "code",
   "execution_count": 28,
   "id": "1ed7e890",
   "metadata": {},
   "outputs": [
    {
     "name": "stderr",
     "output_type": "stream",
     "text": [
      "C:\\Users\\keckert\\Anaconda3\\lib\\site-packages\\statsmodels\\graphics\\gofplots.py:993: UserWarning: marker is redundantly defined by the 'marker' keyword argument and the fmt string \"bo\" (-> marker='o'). The keyword argument will take precedence.\n",
      "  ax.plot(x, y, fmt, **plot_style)\n"
     ]
    },
    {
     "data": {
      "image/png": "[encoded data removed]",
      "text/plain": [
       "<Figure size 432x288 with 1 Axes>"
      ]
     },
     "metadata": {
      "needs_background": "light"
     },
     "output_type": "display_data"
    }
   ],
   "source": [
    "# create a QQ (quantile-quantile) plot of the two distributions (DAX log-returns and QCBM generated data)\n",
    "# once a good set of theta parameters has been obtained and saved in \"thetas_opt.csv\", this section can be executed on its own\n",
    "import statsmodels.api as sm\n",
    "import matplotlib.pyplot as plt\n",
    "from statsmodels.graphics.gofplots import qqplot_2samples\n",
    "\n",
    "thetas_opt = np.genfromtxt(\"thetas_opt.csv\",delimiter=\",\") # load good theta parameters previously obtained to avoid\n",
    "                                                           # having to run the training algorithm again \n",
    "device = LocalSimulator()    # use simulator, below we will use actual quantum hardware\n",
    "samples = np.array(run_qcbm([thetas_opt],DAX_min,DAX_max,epsilon=epsilon,K=len(data))[0])\n",
    "\n",
    "pp_x = sm.ProbPlot(data)  # probability plot of x-data\n",
    "pp_y = sm.ProbPlot(samples)  # probabilily plot of y-data\n",
    "qqplot_2samples(pp_x, pp_y,xlabel='DAX',ylabel='QCBM samples')  # plot the two sets against one another\n",
    "plt.show()"
   ]
  },
  {
   "cell_type": "markdown",
   "id": "69ecd9eb",
   "metadata": {},
   "source": [
    "The approximate diagonality of the plot indicates the similarity of the distributions of synthesized data and the original data. In this way the QCBM can be used as a generator for market data to be used e.g. in simulations. "
   ]
  },
  {
   "cell_type": "markdown",
   "id": "114058e8",
   "metadata": {},
   "source": [
    "### Running the QCBM on Rigetti quantum hardware \n",
    "\n",
    "Now we can run the trained QCBM on actual quantum hardware, here Rigetti's Aspen-M3 device accessed via AWS."
   ]
  },
  {
   "cell_type": "code",
   "execution_count": 25,
   "id": "b45d7e15",
   "metadata": {},
   "outputs": [
    {
     "name": "stdout",
     "output_type": "stream",
     "text": [
      "CREATED\n"
     ]
    }
   ],
   "source": [
    "from braket.tracking import Tracker  # Use Braket SDK Cost Tracking to estimate the cost to run this example\n",
    "t = Tracker().start()\n",
    "\n",
    "# use Rigetti's Aspen-M3 device\n",
    "device = AwsDevice(\"arn:aws:braket:us-west-1::device/qpu/rigetti/Aspen-M-3\")\n",
    "\n",
    "thetas_opt = np.genfromtxt(\"thetas_opt.csv\",delimiter=\",\") # load good theta parameters previously obtained to avoid\n",
    "                                                           # having to run the training algorithm again \n",
    "thetas_dict = thetas_to_dict(thetas_opt)\n",
    "task = device.run(qcbm,shots=len(data),inputs=thetas_dict)   # Here the quantum circuit is executed, incurring cost\n",
    "rigetti_task_id = task.id\n",
    "status = task.state()\n",
    "print(status)"
   ]
  },
  {
   "cell_type": "code",
   "execution_count": 26,
   "id": "7ec0d745",
   "metadata": {},
   "outputs": [
    {
     "name": "stdout",
     "output_type": "stream",
     "text": [
      "Sorry, your task is still being processed and has not been finalized yet.\n"
     ]
    }
   ],
   "source": [
    "# retrieve samples obtained from the QCBM run on Rigetti's Aspen-M3 device and generate QQ plots against original data\n",
    "import statsmodels.api as sm\n",
    "import matplotlib.pyplot as plt\n",
    "from statsmodels.graphics.gofplots import qqplot_2samples\n",
    "\n",
    "thetas_opt = [Nthetas_sorted[0]]                 # select the best set of theta values obtained by the genetic algorithm\n",
    "\n",
    "task_load = AwsQuantumTask(arn=rigetti_task_id)  # recover AWS task executed above\n",
    "status = task_load.state()\n",
    "\n",
    "if status == 'COMPLETED':\n",
    "    print(status)\n",
    "    # get results\n",
    "    result = task_load.result()\n",
    "    counts = result.measurement_counts                   # obtain bitstrings with their respective counts\n",
    "    v = []\n",
    "    for bitstring, count in counts.items():\n",
    "        value = bitstring_to_data(bitstring,DAX_min,DAX_max,epsilon=epsilon)  # convert bitstring to real valued data\n",
    "        for i in range(count): \n",
    "            v.append(value)    \n",
    "    samples = np.array(v)\n",
    "    pp_x = sm.ProbPlot(data)  # probability plot of x-data\n",
    "    pp_y = sm.ProbPlot(samples)  # probabilily plot of y-data\n",
    "    qqplot_2samples(pp_x, pp_y,xlabel='DAX',ylabel='QCBM samples')  # plot the two sets against one another\n",
    "    plt.show()\n",
    "elif status in ['FAILED', 'CANCELLED']:\n",
    "    # print terminal message \n",
    "    print('Your task is in terminal status, but has not completed.')\n",
    "else:\n",
    "    # print current status\n",
    "    print('Sorry, your task is still being processed and has not been finalized yet.')"
   ]
  },
  {
   "cell_type": "code",
   "execution_count": 27,
   "id": "6e5de25c",
   "metadata": {},
   "outputs": [
    {
     "name": "stdout",
     "output_type": "stream",
     "text": [
      "Task Summary\n",
      "{'arn:aws:braket:us-west-1::device/qpu/rigetti/Aspen-M-3': {'shots': 536, 'tasks': {'QUEUED': 1}}}\n",
      "Estimated cost to run this example: 0.49 USD\n"
     ]
    }
   ],
   "source": [
    "print(\"Task Summary\")\n",
    "print(t.quantum_tasks_statistics())\n",
    "print(f\"Estimated cost to run this example: {t.qpu_tasks_cost() + t.simulator_tasks_cost():.2f} USD\")"
   ]
  },
  {
   "cell_type": "code",
   "execution_count": null,
   "id": "a61ba511",
   "metadata": {},
   "outputs": [],
   "source": []
  }
 ],
 "metadata": {
  "kernelspec": {
   "display_name": "Python 3 (ipykernel)",
   "language": "python",
   "name": "python3"
  },
  "language_info": {
   "codemirror_mode": {
    "name": "ipython",
    "version": 3
   },
   "file_extension": ".py",
   "mimetype": "text/x-python",
   "name": "python",
   "nbconvert_exporter": "python",
   "pygments_lexer": "ipython3",
   "version": "3.9.7"
  }
 },
 "nbformat": 4,
 "nbformat_minor": 5
}
